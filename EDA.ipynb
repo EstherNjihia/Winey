{
 "cells": [
  {
   "cell_type": "code",
   "execution_count": 1,
   "metadata": {},
   "outputs": [],
   "source": [
    "import pandas as pd\n",
    "import seaborn as sns\n"
   ]
  },
  {
   "cell_type": "code",
   "execution_count": 2,
   "metadata": {},
   "outputs": [],
   "source": [
    "df = pd.read_csv(\"wines1.csv\")"
   ]
  },
  {
   "cell_type": "code",
   "execution_count": 3,
   "metadata": {},
   "outputs": [
    {
     "data": {
      "text/html": [
       "<div>\n",
       "<style scoped>\n",
       "    .dataframe tbody tr th:only-of-type {\n",
       "        vertical-align: middle;\n",
       "    }\n",
       "\n",
       "    .dataframe tbody tr th {\n",
       "        vertical-align: top;\n",
       "    }\n",
       "\n",
       "    .dataframe thead th {\n",
       "        text-align: right;\n",
       "    }\n",
       "</style>\n",
       "<table border=\"1\" class=\"dataframe\">\n",
       "  <thead>\n",
       "    <tr style=\"text-align: right;\">\n",
       "      <th></th>\n",
       "      <th>Unnamed: 0</th>\n",
       "      <th>Title</th>\n",
       "      <th>additional_info</th>\n",
       "      <th>Price</th>\n",
       "    </tr>\n",
       "  </thead>\n",
       "  <tbody>\n",
       "    <tr>\n",
       "      <th>0</th>\n",
       "      <td>0</td>\n",
       "      <td>Alegoria Gran Reserva Cabernet Sauvignon Agrelo</td>\n",
       "      <td>Aromas of: plum, currant and roasted red pepper.…</td>\n",
       "      <td>3,895</td>\n",
       "    </tr>\n",
       "    <tr>\n",
       "      <th>1</th>\n",
       "      <td>1</td>\n",
       "      <td>Alegoria Gran Reserva Malbec Agrelo</td>\n",
       "      <td>An: intense red color, with: blue reflections....</td>\n",
       "      <td>3,895</td>\n",
       "    </tr>\n",
       "    <tr>\n",
       "      <th>2</th>\n",
       "      <td>2</td>\n",
       "      <td>Alto Rouge</td>\n",
       "      <td>Since 1922, when it was first produced on…</td>\n",
       "      <td>2,895</td>\n",
       "    </tr>\n",
       "    <tr>\n",
       "      <th>3</th>\n",
       "      <td>3</td>\n",
       "      <td>Anakena Birdman Cabernet Sauvignon</td>\n",
       "      <td>A rich plate packed with juicy fruit and…</td>\n",
       "      <td>1,495</td>\n",
       "    </tr>\n",
       "    <tr>\n",
       "      <th>4</th>\n",
       "      <td>4</td>\n",
       "      <td>Anakena Birdman Merlot</td>\n",
       "      <td>A fruit-driven wine bursting with raspberry ar...</td>\n",
       "      <td>1,495</td>\n",
       "    </tr>\n",
       "  </tbody>\n",
       "</table>\n",
       "</div>"
      ],
      "text/plain": [
       "   Unnamed: 0                                            Title  \\\n",
       "0           0  Alegoria Gran Reserva Cabernet Sauvignon Agrelo   \n",
       "1           1              Alegoria Gran Reserva Malbec Agrelo   \n",
       "2           2                                       Alto Rouge   \n",
       "3           3               Anakena Birdman Cabernet Sauvignon   \n",
       "4           4                           Anakena Birdman Merlot   \n",
       "\n",
       "                                     additional_info  Price  \n",
       "0  Aromas of: plum, currant and roasted red pepper.…  3,895  \n",
       "1  An: intense red color, with: blue reflections....  3,895  \n",
       "2         Since 1922, when it was first produced on…  2,895  \n",
       "3          A rich plate packed with juicy fruit and…  1,495  \n",
       "4  A fruit-driven wine bursting with raspberry ar...  1,495  "
      ]
     },
     "execution_count": 3,
     "metadata": {},
     "output_type": "execute_result"
    }
   ],
   "source": [
    "df.head()"
   ]
  },
  {
   "cell_type": "code",
   "execution_count": 4,
   "metadata": {},
   "outputs": [
    {
     "name": "stdout",
     "output_type": "stream",
     "text": [
      "<class 'pandas.core.frame.DataFrame'>\n",
      "RangeIndex: 112 entries, 0 to 111\n",
      "Data columns (total 4 columns):\n",
      " #   Column           Non-Null Count  Dtype \n",
      "---  ------           --------------  ----- \n",
      " 0   Unnamed: 0       112 non-null    int64 \n",
      " 1   Title            112 non-null    object\n",
      " 2   additional_info  112 non-null    object\n",
      " 3   Price            112 non-null    object\n",
      "dtypes: int64(1), object(3)\n",
      "memory usage: 3.6+ KB\n"
     ]
    }
   ],
   "source": [
    "df.info()"
   ]
  },
  {
   "cell_type": "code",
   "execution_count": 5,
   "metadata": {},
   "outputs": [
    {
     "data": {
      "text/html": [
       "<div>\n",
       "<style scoped>\n",
       "    .dataframe tbody tr th:only-of-type {\n",
       "        vertical-align: middle;\n",
       "    }\n",
       "\n",
       "    .dataframe tbody tr th {\n",
       "        vertical-align: top;\n",
       "    }\n",
       "\n",
       "    .dataframe thead th {\n",
       "        text-align: right;\n",
       "    }\n",
       "</style>\n",
       "<table border=\"1\" class=\"dataframe\">\n",
       "  <thead>\n",
       "    <tr style=\"text-align: right;\">\n",
       "      <th></th>\n",
       "      <th>Title</th>\n",
       "      <th>additional_info</th>\n",
       "      <th>Price</th>\n",
       "    </tr>\n",
       "  </thead>\n",
       "  <tbody>\n",
       "    <tr>\n",
       "      <th>0</th>\n",
       "      <td>Alegoria Gran Reserva Cabernet Sauvignon Agrelo</td>\n",
       "      <td>Aromas of: plum, currant and roasted red pepper.…</td>\n",
       "      <td>3,895</td>\n",
       "    </tr>\n",
       "    <tr>\n",
       "      <th>1</th>\n",
       "      <td>Alegoria Gran Reserva Malbec Agrelo</td>\n",
       "      <td>An: intense red color, with: blue reflections....</td>\n",
       "      <td>3,895</td>\n",
       "    </tr>\n",
       "    <tr>\n",
       "      <th>2</th>\n",
       "      <td>Alto Rouge</td>\n",
       "      <td>Since 1922, when it was first produced on…</td>\n",
       "      <td>2,895</td>\n",
       "    </tr>\n",
       "    <tr>\n",
       "      <th>3</th>\n",
       "      <td>Anakena Birdman Cabernet Sauvignon</td>\n",
       "      <td>A rich plate packed with juicy fruit and…</td>\n",
       "      <td>1,495</td>\n",
       "    </tr>\n",
       "    <tr>\n",
       "      <th>4</th>\n",
       "      <td>Anakena Birdman Merlot</td>\n",
       "      <td>A fruit-driven wine bursting with raspberry ar...</td>\n",
       "      <td>1,495</td>\n",
       "    </tr>\n",
       "    <tr>\n",
       "      <th>...</th>\n",
       "      <td>...</td>\n",
       "      <td>...</td>\n",
       "      <td>...</td>\n",
       "    </tr>\n",
       "    <tr>\n",
       "      <th>107</th>\n",
       "      <td>Anakena Birdman Cabernet Sauvignon</td>\n",
       "      <td>A rich plate packed with juicy fruit and…</td>\n",
       "      <td>1,495</td>\n",
       "    </tr>\n",
       "    <tr>\n",
       "      <th>108</th>\n",
       "      <td>Anakena Birdman Merlot</td>\n",
       "      <td>A fruit-driven wine bursting with raspberry ar...</td>\n",
       "      <td>1,495</td>\n",
       "    </tr>\n",
       "    <tr>\n",
       "      <th>109</th>\n",
       "      <td>B&amp;G Beaujolais Villages</td>\n",
       "      <td>Elegant, with fresh fig and ripe red berry…</td>\n",
       "      <td>2,695</td>\n",
       "    </tr>\n",
       "    <tr>\n",
       "      <th>110</th>\n",
       "      <td>B&amp;G Côtes du Rhône</td>\n",
       "      <td>Intense nose of: flowers (violet) and black fr...</td>\n",
       "      <td>2,395</td>\n",
       "    </tr>\n",
       "    <tr>\n",
       "      <th>111</th>\n",
       "      <td>B&amp;G Cuvée Specialé Nature Sweet Rouge</td>\n",
       "      <td>A blend of: Grenache, Carignan, Cinsault (from...</td>\n",
       "      <td>1,595</td>\n",
       "    </tr>\n",
       "  </tbody>\n",
       "</table>\n",
       "<p>112 rows × 3 columns</p>\n",
       "</div>"
      ],
      "text/plain": [
       "                                               Title  \\\n",
       "0    Alegoria Gran Reserva Cabernet Sauvignon Agrelo   \n",
       "1                Alegoria Gran Reserva Malbec Agrelo   \n",
       "2                                         Alto Rouge   \n",
       "3                 Anakena Birdman Cabernet Sauvignon   \n",
       "4                             Anakena Birdman Merlot   \n",
       "..                                               ...   \n",
       "107               Anakena Birdman Cabernet Sauvignon   \n",
       "108                           Anakena Birdman Merlot   \n",
       "109                          B&G Beaujolais Villages   \n",
       "110                               B&G Côtes du Rhône   \n",
       "111            B&G Cuvée Specialé Nature Sweet Rouge   \n",
       "\n",
       "                                       additional_info  Price  \n",
       "0    Aromas of: plum, currant and roasted red pepper.…  3,895  \n",
       "1    An: intense red color, with: blue reflections....  3,895  \n",
       "2           Since 1922, when it was first produced on…  2,895  \n",
       "3            A rich plate packed with juicy fruit and…  1,495  \n",
       "4    A fruit-driven wine bursting with raspberry ar...  1,495  \n",
       "..                                                 ...    ...  \n",
       "107          A rich plate packed with juicy fruit and…  1,495  \n",
       "108  A fruit-driven wine bursting with raspberry ar...  1,495  \n",
       "109        Elegant, with fresh fig and ripe red berry…  2,695  \n",
       "110  Intense nose of: flowers (violet) and black fr...  2,395  \n",
       "111  A blend of: Grenache, Carignan, Cinsault (from...  1,595  \n",
       "\n",
       "[112 rows x 3 columns]"
      ]
     },
     "execution_count": 5,
     "metadata": {},
     "output_type": "execute_result"
    }
   ],
   "source": [
    "df.drop(columns='Unnamed: 0')"
   ]
  }
 ],
 "metadata": {
  "kernelspec": {
   "display_name": "Python 3.9.7 ('base')",
   "language": "python",
   "name": "python3"
  },
  "language_info": {
   "codemirror_mode": {
    "name": "ipython",
    "version": 3
   },
   "file_extension": ".py",
   "mimetype": "text/x-python",
   "name": "python",
   "nbconvert_exporter": "python",
   "pygments_lexer": "ipython3",
   "version": "3.9.7"
  },
  "orig_nbformat": 4,
  "vscode": {
   "interpreter": {
    "hash": "17969a877b014f34365ae391eb899e1fa7bf57fc76b3e227d97b8ccb30911bb6"
   }
  }
 },
 "nbformat": 4,
 "nbformat_minor": 2
}
